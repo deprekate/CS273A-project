{
 "cells": [
  {
   "cell_type": "code",
   "execution_count": 3,
   "metadata": {},
   "outputs": [],
   "source": [
    "import numpy as np\n",
    "import pandas as pd\n",
    "import matplotlib.pyplot as plt\n",
    "plt.rcParams['figure.figsize'] = [10, 5]\n"
   ]
  },
  {
   "cell_type": "code",
   "execution_count": null,
   "metadata": {},
   "outputs": [],
   "source": []
  },
  {
   "cell_type": "code",
   "execution_count": 4,
   "metadata": {},
   "outputs": [],
   "source": [
    "word_counts = pd.read_csv('../word_lists/all_words_ascii_noquote_nodigit_destem.tsv', sep='\\t', header=None)\n",
    "word_counts.columns = ['word', 'counts']"
   ]
  },
  {
   "cell_type": "code",
   "execution_count": 5,
   "metadata": {},
   "outputs": [
    {
     "data": {
      "text/html": [
       "<div>\n",
       "<style scoped>\n",
       "    .dataframe tbody tr th:only-of-type {\n",
       "        vertical-align: middle;\n",
       "    }\n",
       "\n",
       "    .dataframe tbody tr th {\n",
       "        vertical-align: top;\n",
       "    }\n",
       "\n",
       "    .dataframe thead th {\n",
       "        text-align: right;\n",
       "    }\n",
       "</style>\n",
       "<table border=\"1\" class=\"dataframe\">\n",
       "  <thead>\n",
       "    <tr style=\"text-align: right;\">\n",
       "      <th></th>\n",
       "      <th>word</th>\n",
       "      <th>counts</th>\n",
       "    </tr>\n",
       "  </thead>\n",
       "  <tbody>\n",
       "    <tr>\n",
       "      <th>0</th>\n",
       "      <td>shirvington</td>\n",
       "      <td>1</td>\n",
       "    </tr>\n",
       "    <tr>\n",
       "      <th>1</th>\n",
       "      <td>aircracft</td>\n",
       "      <td>1</td>\n",
       "    </tr>\n",
       "    <tr>\n",
       "      <th>2</th>\n",
       "      <td>yvesnimmo</td>\n",
       "      <td>1</td>\n",
       "    </tr>\n",
       "    <tr>\n",
       "      <th>3</th>\n",
       "      <td>voydan</td>\n",
       "      <td>1</td>\n",
       "    </tr>\n",
       "    <tr>\n",
       "      <th>4</th>\n",
       "      <td>mitsurugi</td>\n",
       "      <td>1</td>\n",
       "    </tr>\n",
       "    <tr>\n",
       "      <th>...</th>\n",
       "      <td>...</td>\n",
       "      <td>...</td>\n",
       "    </tr>\n",
       "    <tr>\n",
       "      <th>142270</th>\n",
       "      <td>you</td>\n",
       "      <td>218200</td>\n",
       "    </tr>\n",
       "    <tr>\n",
       "      <th>142271</th>\n",
       "      <td>and</td>\n",
       "      <td>224236</td>\n",
       "    </tr>\n",
       "    <tr>\n",
       "      <th>142272</th>\n",
       "      <td>of</td>\n",
       "      <td>225062</td>\n",
       "    </tr>\n",
       "    <tr>\n",
       "      <th>142273</th>\n",
       "      <td>to</td>\n",
       "      <td>297516</td>\n",
       "    </tr>\n",
       "    <tr>\n",
       "      <th>142274</th>\n",
       "      <td>the</td>\n",
       "      <td>497144</td>\n",
       "    </tr>\n",
       "  </tbody>\n",
       "</table>\n",
       "<p>142275 rows × 2 columns</p>\n",
       "</div>"
      ],
      "text/plain": [
       "               word  counts\n",
       "0       shirvington       1\n",
       "1         aircracft       1\n",
       "2         yvesnimmo       1\n",
       "3            voydan       1\n",
       "4         mitsurugi       1\n",
       "...             ...     ...\n",
       "142270          you  218200\n",
       "142271          and  224236\n",
       "142272           of  225062\n",
       "142273           to  297516\n",
       "142274          the  497144\n",
       "\n",
       "[142275 rows x 2 columns]"
      ]
     },
     "execution_count": 5,
     "metadata": {},
     "output_type": "execute_result"
    }
   ],
   "source": [
    "word_counts"
   ]
  },
  {
   "cell_type": "code",
   "execution_count": 6,
   "metadata": {},
   "outputs": [
    {
     "data": {
      "image/png": "[encoded data removed]",
      "text/plain": [
       "<Figure size 720x360 with 1 Axes>"
      ]
     },
     "metadata": {
      "needs_background": "light"
     },
     "output_type": "display_data"
    }
   ],
   "source": [
    "fig, ax = plt.subplots()\n",
    "plt.hist(np.log10(word_counts.counts), bins=35)\n",
    "plt.title('Histogram of the word occurence frequency in Wikipedia comments')\n",
    "plt.xlabel('Frequency')\n",
    "plt.ylabel('Words')\n",
    "ax.set_xticklabels(['','1','$10^1$','$10^2$','$10^3$','$10^4$','$10^5$']);\n",
    "#ax.set_yscale('log')"
   ]
  },
  {
   "cell_type": "code",
   "execution_count": null,
   "metadata": {},
   "outputs": [],
   "source": []
  },
  {
   "cell_type": "code",
   "execution_count": null,
   "metadata": {},
   "outputs": [],
   "source": []
  }
 ],
 "metadata": {
  "kernelspec": {
   "display_name": "Python 3",
   "language": "python",
   "name": "python3"
  },
  "language_info": {
   "codemirror_mode": {
    "name": "ipython",
    "version": 3
   },
   "file_extension": ".py",
   "mimetype": "text/x-python",
   "name": "python",
   "nbconvert_exporter": "python",
   "pygments_lexer": "ipython3",
   "version": "3.8.0"
  }
 },
 "nbformat": 4,
 "nbformat_minor": 4
}
